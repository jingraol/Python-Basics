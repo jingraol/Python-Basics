{
 "cells": [
  {
   "cell_type": "markdown",
   "metadata": {
    "id": "hm8RAKinXsIP"
   },
   "source": [
    "## **Homework 1**\n",
    "\n",
    "### Create a copy of the notebook to start answering the questions. Name your notebook in the format HW1_lastname_firstname.ipynb to facilitate the grading process. \n",
    "\n",
    "### Answer all the questions, test your code to ensure there are no errors and the results are as expected. Once you have answered all the questions, save the final copy, then go to File-> click on Download.ipynb. Once the local copy has been downloaded, submit your file on Blackboard under the corresponding assignment section. Also provide us a link to your notebook during submission. \n",
    "\n",
    "### **The due date of this homework is 02/05/2021 (Friday).**\n",
    "\n",
    "### Please ensure you follow all the steps mentioned in the homework.\n",
    "\n",
    "### All the questions have a sample input and output to help you understand the question. Please note that your programs will be tested for other sets of inputs and outputs along with the sample provided. So test your code for other inputs.\n",
    "\n",
    "### You can submit your solutions any number of times until the deadline.\n"
   ]
  },
  {
   "cell_type": "markdown",
   "metadata": {
    "id": "uacFrEaZfcfq"
   },
   "source": [
    "##### Q1. Write a program that prompts the user to enter a password then prints the length of the password.\n",
    "\n",
    "```\n",
    "Enter your password: hello\n",
    "Your password is 5 long.\n",
    "```\n",
    "\n",
    "\n"
   ]
  },
  {
   "cell_type": "code",
   "execution_count": null,
   "metadata": {
    "id": "avPyES14ftCt",
    "colab": {
     "base_uri": "https://localhost:8080/"
    },
    "outputId": "11f50b60-d12d-4b1b-9957-4085c48df1ac"
   },
   "outputs": [
    {
     "name": "stdout",
     "output_type": "stream",
     "text": [
      "Enter your password:uuhh\n",
      "Your password is 4 long.\n"
     ]
    }
   ],
   "source": [
    "# Type solution here\n",
    "password = input(\"Enter your password:\")\n",
    "print('Your password is',len(password),\"long.\")"
   ]
  },
  {
   "cell_type": "markdown",
   "metadata": {
    "id": "ekh-kABuItli"
   },
   "source": [
    ""
   ]
  },
  {
   "cell_type": "markdown",
   "metadata": {
    "id": "K1yko-xUItU3"
   },
   "source": [
    ""
   ]
  },
  {
   "cell_type": "markdown",
   "metadata": {
    "id": "behD0j_Of2TW"
   },
   "source": [
    "##### Q2. Write a program that prompts the user to enter their full name then prints the number of characters in their name (do not count spaces).\n",
    "\n",
    "```\n",
    "What is your name? Amulya Katti\n",
    "Amulya Katti your name has 11 characters.\n",
    "```"
   ]
  },
  {
   "cell_type": "code",
   "execution_count": 29,
   "metadata": {
    "id": "XSdIRjwlhSlu",
    "colab": {
     "base_uri": "https://localhost:8080/"
    },
    "outputId": "e4e8ea44-68a9-4f72-f646-acd970dc65c0"
   },
   "outputs": [
    {
     "name": "stdout",
     "output_type": "stream",
     "text": [
      "What is your name?uu   hh\n",
      "uu   hh your name has 4 characters.\n"
     ]
    }
   ],
   "source": [
    "# Type solution here\n",
    "name = input(\"What is your name?\")\n",
    "nameRemove=name.replace(\" \",\"\")\n",
    "length=len(nameRemove)\n",
    "print(name, \"your name has\", length,\"characters.\")"
   ]
  },
  {
   "cell_type": "markdown",
   "metadata": {
    "id": "5KHOWF6FhVHV"
   },
   "source": [
    "##### Q3. Write a program that prompts the user to enter a month (as a number), then prints the name of the month and the number of days in that month. Ensure that the user inputs a valid month and handle any error cases.\n",
    "\n",
    "```\n",
    "Enter the month number: 9\n",
    "September has 30 days\n",
    "```"
   ]
  },
  {
   "cell_type": "code",
   "execution_count": 30,
   "metadata": {
    "id": "KhS-SAEThyTG",
    "colab": {
     "base_uri": "https://localhost:8080/"
    },
    "outputId": "aba655ed-b293-42b7-beea-b813c84761a8"
   },
   "outputs": [
    {
     "name": "stdout",
     "output_type": "stream",
     "text": [
      "Enter the month number:8\n",
      "August has 31 days.\n"
     ]
    }
   ],
   "source": [
    "# Type solution here\n",
    "monthInput=int(input('Enter the month number:') )\n",
    "day=0\n",
    "month=''\n",
    "if monthInput==1:\n",
    "  month='January'\n",
    "  day=31\n",
    "if monthInput==2:\n",
    "  month='February'\n",
    "  day=28\n",
    "if monthInput==3:\n",
    "  month='March'\n",
    "  day=31\n",
    "if monthInput==4:\n",
    "  month='April'\n",
    "  day=30\n",
    "if monthInput==5:\n",
    "  month='May'\n",
    "  day=31\n",
    "if monthInput==6:\n",
    "  month='June'\n",
    "  day=30\n",
    "if monthInput==7:\n",
    "  month='July'\n",
    "  day=31\n",
    "if monthInput==8:\n",
    "  month='August'\n",
    "  day=31\n",
    "if monthInput==9:\n",
    "  month='September'\n",
    "  day=30\n",
    "if monthInput==10:\n",
    "  month='October'\n",
    "  day=31\n",
    "if monthInput==11:\n",
    "  month='November'\n",
    "  day=30\n",
    "if monthInput==12:\n",
    "  month='December'\n",
    "  day=31\n",
    "print(month,'has', str(day), 'days.')"
   ]
  },
  {
   "cell_type": "markdown",
   "metadata": {
    "id": "O7lnAdGlh6Xa"
   },
   "source": [
    "##### Q4. Write a program that prompts the user to enter a loan amount, annual interest rate, and number of years  for a car loan. Then calculate and print the monthly payment amount.\n",
    "\n",
    "Note:\n",
    "```\n",
    "PMT= [PV*i*((1+i)^n)]/[((1+i)^n)-1]\n",
    "```\n",
    "PMT is the monthly payment\n",
    "\n",
    "PV is the loan amount\n",
    "\n",
    "i is the interest rate per month in decimal form (interest rate percentage divided by 12)\n",
    "\n",
    "n is the number of months (term of the loan in months)\n",
    "\n",
    "```\n",
    "Loan Amount: 30000.00\n",
    "Annual Interest Rate: 4.00\n",
    "Years: 5\n",
    "Your monthly payment is: $552.50\n",
    "```"
   ]
  },
  {
   "cell_type": "code",
   "execution_count": 31,
   "metadata": {
    "id": "p4B5JH5GiTs9",
    "colab": {
     "base_uri": "https://localhost:8080/"
    },
    "outputId": "9285f3b5-4ee4-49f8-8516-73df1d2b3844"
   },
   "outputs": [
    {
     "name": "stdout",
     "output_type": "stream",
     "text": [
      "Loan Amount:30000\n",
      "Annual Interest Rate:4\n",
      "Years:5\n",
      "Loan Amount: 30000.0\n",
      "Annual Interest Rate: 4.0\n",
      "Years: 5\n",
      "Your monthly payment is: 552.4956616579792\n"
     ]
    }
   ],
   "source": [
    "# Type solution here\n",
    "loan=float(input(\"Loan Amount:\"))\n",
    "interest=float(input(\"Annual Interest Rate:\")) #remember to divide it by 100 before divided by 12\n",
    "year=int(input(\"Years:\"))\n",
    "\n",
    "interestRate=interest/100/12\n",
    "payment=loan * (interestRate * (1 + interestRate) ** (year*12)) / ((1 + interestRate) ** (year*12) - 1)\n",
    "\n",
    "print(\"Loan Amount:\",loan)\n",
    "print(\"Annual Interest Rate:\",interest)\n",
    "print(\"Years:\",year)\n",
    "print(\"Your monthly payment is:\",payment)"
   ]
  },
  {
   "cell_type": "markdown",
   "metadata": {
    "id": "SjiolJKgiWV-"
   },
   "source": [
    "##### Q5. Write a program to that prompts the user to enter a string. Then check whether or not the string is a palindrome.\n",
    "\n",
    "```\n",
    "Enter a string: Madam\n",
    "Madam, is a palindrome!\n",
    "```"
   ]
  },
  {
   "cell_type": "code",
   "execution_count": 33,
   "metadata": {
    "id": "F5_M934Ri0es",
    "colab": {
     "base_uri": "https://localhost:8080/"
    },
    "outputId": "d69c3cd8-167a-4dc7-ea7d-56be7e31c1ee"
   },
   "outputs": [
    {
     "name": "stdout",
     "output_type": "stream",
     "text": [
      "Enter a string:ychcy\n",
      "ychcy, is a palindrome!\n"
     ]
    }
   ],
   "source": [
    "# Type solution here\n",
    "userInput=input(\"Enter a string:\")\n",
    "letterList=list(userInput.lower())\n",
    "condition=True\n",
    "for i in range(len(letterList)):\n",
    "  if letterList[i]!=letterList[len(letterList)-i-1]:\n",
    "    condition=False\n",
    "    break\n",
    "  else:\n",
    "    condition=True\n",
    "\n",
    "if condition==True:\n",
    "  print(userInput+ \", is a palindrome!\")\n",
    "if condition==False:\n",
    "  print(userInput+\", is not a palindrome!\")\n",
    "\n"
   ]
  },
  {
   "cell_type": "markdown",
   "metadata": {
    "id": "BLBD6n9vkJEu"
   },
   "source": [
    "##### Q6. Write a program to compute and print all possible combinations of change for \\$1. Denominations to be considered – quarter, dime, nickel, penny.\n",
    "\n",
    "Hint: Use nested loops (loops within loops for the various denominations of coins)\n",
    "\n",
    "```\n",
    "Change for $1:\n",
    "0 quarters, 0 dimes, 0 nickels, 100 pennies\n",
    "…\n",
    "4 quarters, 0 dimes, 0 nickels, 0 pennies\n",
    "```"
   ]
  },
  {
   "cell_type": "code",
   "execution_count": 34,
   "metadata": {
    "id": "kAQsTjwDkZZ5",
    "colab": {
     "base_uri": "https://localhost:8080/"
    },
    "outputId": "88843681-418b-4ab9-9da3-1176754250b5"
   },
   "outputs": [
    {
     "name": "stdout",
     "output_type": "stream",
     "text": [
      "Change for $1:\n",
      "0 quarters, 0 dimes, 0 nickels, 100 pennnis\n",
      "0 quarters, 0 dimes, 1 nickels, 95 pennnis\n",
      "0 quarters, 0 dimes, 2 nickels, 90 pennnis\n",
      "0 quarters, 0 dimes, 3 nickels, 85 pennnis\n",
      "0 quarters, 0 dimes, 4 nickels, 80 pennnis\n",
      "0 quarters, 0 dimes, 5 nickels, 75 pennnis\n",
      "0 quarters, 0 dimes, 6 nickels, 70 pennnis\n",
      "0 quarters, 0 dimes, 7 nickels, 65 pennnis\n",
      "0 quarters, 0 dimes, 8 nickels, 60 pennnis\n",
      "0 quarters, 0 dimes, 9 nickels, 55 pennnis\n",
      "0 quarters, 0 dimes, 10 nickels, 50 pennnis\n",
      "0 quarters, 0 dimes, 11 nickels, 45 pennnis\n",
      "0 quarters, 0 dimes, 12 nickels, 40 pennnis\n",
      "0 quarters, 0 dimes, 13 nickels, 35 pennnis\n",
      "0 quarters, 0 dimes, 14 nickels, 30 pennnis\n",
      "0 quarters, 0 dimes, 15 nickels, 25 pennnis\n",
      "0 quarters, 0 dimes, 16 nickels, 20 pennnis\n",
      "0 quarters, 0 dimes, 17 nickels, 15 pennnis\n",
      "0 quarters, 0 dimes, 18 nickels, 10 pennnis\n",
      "0 quarters, 0 dimes, 19 nickels, 5 pennnis\n",
      "0 quarters, 0 dimes, 20 nickels, 0 pennnis\n",
      "0 quarters, 1 dimes, 0 nickels, 90 pennnis\n",
      "0 quarters, 1 dimes, 1 nickels, 85 pennnis\n",
      "0 quarters, 1 dimes, 2 nickels, 80 pennnis\n",
      "0 quarters, 1 dimes, 3 nickels, 75 pennnis\n",
      "0 quarters, 1 dimes, 4 nickels, 70 pennnis\n",
      "0 quarters, 1 dimes, 5 nickels, 65 pennnis\n",
      "0 quarters, 1 dimes, 6 nickels, 60 pennnis\n",
      "0 quarters, 1 dimes, 7 nickels, 55 pennnis\n",
      "0 quarters, 1 dimes, 8 nickels, 50 pennnis\n",
      "0 quarters, 1 dimes, 9 nickels, 45 pennnis\n",
      "0 quarters, 1 dimes, 10 nickels, 40 pennnis\n",
      "0 quarters, 1 dimes, 11 nickels, 35 pennnis\n",
      "0 quarters, 1 dimes, 12 nickels, 30 pennnis\n",
      "0 quarters, 1 dimes, 13 nickels, 25 pennnis\n",
      "0 quarters, 1 dimes, 14 nickels, 20 pennnis\n",
      "0 quarters, 1 dimes, 15 nickels, 15 pennnis\n",
      "0 quarters, 1 dimes, 16 nickels, 10 pennnis\n",
      "0 quarters, 1 dimes, 17 nickels, 5 pennnis\n",
      "0 quarters, 1 dimes, 18 nickels, 0 pennnis\n",
      "0 quarters, 2 dimes, 0 nickels, 80 pennnis\n",
      "0 quarters, 2 dimes, 1 nickels, 75 pennnis\n",
      "0 quarters, 2 dimes, 2 nickels, 70 pennnis\n",
      "0 quarters, 2 dimes, 3 nickels, 65 pennnis\n",
      "0 quarters, 2 dimes, 4 nickels, 60 pennnis\n",
      "0 quarters, 2 dimes, 5 nickels, 55 pennnis\n",
      "0 quarters, 2 dimes, 6 nickels, 50 pennnis\n",
      "0 quarters, 2 dimes, 7 nickels, 45 pennnis\n",
      "0 quarters, 2 dimes, 8 nickels, 40 pennnis\n",
      "0 quarters, 2 dimes, 9 nickels, 35 pennnis\n",
      "0 quarters, 2 dimes, 10 nickels, 30 pennnis\n",
      "0 quarters, 2 dimes, 11 nickels, 25 pennnis\n",
      "0 quarters, 2 dimes, 12 nickels, 20 pennnis\n",
      "0 quarters, 2 dimes, 13 nickels, 15 pennnis\n",
      "0 quarters, 2 dimes, 14 nickels, 10 pennnis\n",
      "0 quarters, 2 dimes, 15 nickels, 5 pennnis\n",
      "0 quarters, 2 dimes, 16 nickels, 0 pennnis\n",
      "0 quarters, 3 dimes, 0 nickels, 70 pennnis\n",
      "0 quarters, 3 dimes, 1 nickels, 65 pennnis\n",
      "0 quarters, 3 dimes, 2 nickels, 60 pennnis\n",
      "0 quarters, 3 dimes, 3 nickels, 55 pennnis\n",
      "0 quarters, 3 dimes, 4 nickels, 50 pennnis\n",
      "0 quarters, 3 dimes, 5 nickels, 45 pennnis\n",
      "0 quarters, 3 dimes, 6 nickels, 40 pennnis\n",
      "0 quarters, 3 dimes, 7 nickels, 35 pennnis\n",
      "0 quarters, 3 dimes, 8 nickels, 30 pennnis\n",
      "0 quarters, 3 dimes, 9 nickels, 25 pennnis\n",
      "0 quarters, 3 dimes, 10 nickels, 20 pennnis\n",
      "0 quarters, 3 dimes, 11 nickels, 15 pennnis\n",
      "0 quarters, 3 dimes, 12 nickels, 10 pennnis\n",
      "0 quarters, 3 dimes, 13 nickels, 5 pennnis\n",
      "0 quarters, 3 dimes, 14 nickels, 0 pennnis\n",
      "0 quarters, 4 dimes, 0 nickels, 60 pennnis\n",
      "0 quarters, 4 dimes, 1 nickels, 55 pennnis\n",
      "0 quarters, 4 dimes, 2 nickels, 50 pennnis\n",
      "0 quarters, 4 dimes, 3 nickels, 45 pennnis\n",
      "0 quarters, 4 dimes, 4 nickels, 40 pennnis\n",
      "0 quarters, 4 dimes, 5 nickels, 35 pennnis\n",
      "0 quarters, 4 dimes, 6 nickels, 30 pennnis\n",
      "0 quarters, 4 dimes, 7 nickels, 25 pennnis\n",
      "0 quarters, 4 dimes, 8 nickels, 20 pennnis\n",
      "0 quarters, 4 dimes, 9 nickels, 15 pennnis\n",
      "0 quarters, 4 dimes, 10 nickels, 10 pennnis\n",
      "0 quarters, 4 dimes, 11 nickels, 5 pennnis\n",
      "0 quarters, 4 dimes, 12 nickels, 0 pennnis\n",
      "0 quarters, 5 dimes, 0 nickels, 50 pennnis\n",
      "0 quarters, 5 dimes, 1 nickels, 45 pennnis\n",
      "0 quarters, 5 dimes, 2 nickels, 40 pennnis\n",
      "0 quarters, 5 dimes, 3 nickels, 35 pennnis\n",
      "0 quarters, 5 dimes, 4 nickels, 30 pennnis\n",
      "0 quarters, 5 dimes, 5 nickels, 25 pennnis\n",
      "0 quarters, 5 dimes, 6 nickels, 20 pennnis\n",
      "0 quarters, 5 dimes, 7 nickels, 15 pennnis\n",
      "0 quarters, 5 dimes, 8 nickels, 10 pennnis\n",
      "0 quarters, 5 dimes, 9 nickels, 5 pennnis\n",
      "0 quarters, 5 dimes, 10 nickels, 0 pennnis\n",
      "0 quarters, 6 dimes, 0 nickels, 40 pennnis\n",
      "0 quarters, 6 dimes, 1 nickels, 35 pennnis\n",
      "0 quarters, 6 dimes, 2 nickels, 30 pennnis\n",
      "0 quarters, 6 dimes, 3 nickels, 25 pennnis\n",
      "0 quarters, 6 dimes, 4 nickels, 20 pennnis\n",
      "0 quarters, 6 dimes, 5 nickels, 15 pennnis\n",
      "0 quarters, 6 dimes, 6 nickels, 10 pennnis\n",
      "0 quarters, 6 dimes, 7 nickels, 5 pennnis\n",
      "0 quarters, 6 dimes, 8 nickels, 0 pennnis\n",
      "0 quarters, 7 dimes, 0 nickels, 30 pennnis\n",
      "0 quarters, 7 dimes, 1 nickels, 25 pennnis\n",
      "0 quarters, 7 dimes, 2 nickels, 20 pennnis\n",
      "0 quarters, 7 dimes, 3 nickels, 15 pennnis\n",
      "0 quarters, 7 dimes, 4 nickels, 10 pennnis\n",
      "0 quarters, 7 dimes, 5 nickels, 5 pennnis\n",
      "0 quarters, 7 dimes, 6 nickels, 0 pennnis\n",
      "0 quarters, 8 dimes, 0 nickels, 20 pennnis\n",
      "0 quarters, 8 dimes, 1 nickels, 15 pennnis\n",
      "0 quarters, 8 dimes, 2 nickels, 10 pennnis\n",
      "0 quarters, 8 dimes, 3 nickels, 5 pennnis\n",
      "0 quarters, 8 dimes, 4 nickels, 0 pennnis\n",
      "0 quarters, 9 dimes, 0 nickels, 10 pennnis\n",
      "0 quarters, 9 dimes, 1 nickels, 5 pennnis\n",
      "0 quarters, 9 dimes, 2 nickels, 0 pennnis\n",
      "0 quarters, 10 dimes, 0 nickels, 0 pennnis\n",
      "1 quarters, 0 dimes, 0 nickels, 75 pennnis\n",
      "1 quarters, 0 dimes, 1 nickels, 70 pennnis\n",
      "1 quarters, 0 dimes, 2 nickels, 65 pennnis\n",
      "1 quarters, 0 dimes, 3 nickels, 60 pennnis\n",
      "1 quarters, 0 dimes, 4 nickels, 55 pennnis\n",
      "1 quarters, 0 dimes, 5 nickels, 50 pennnis\n",
      "1 quarters, 0 dimes, 6 nickels, 45 pennnis\n",
      "1 quarters, 0 dimes, 7 nickels, 40 pennnis\n",
      "1 quarters, 0 dimes, 8 nickels, 35 pennnis\n",
      "1 quarters, 0 dimes, 9 nickels, 30 pennnis\n",
      "1 quarters, 0 dimes, 10 nickels, 25 pennnis\n",
      "1 quarters, 0 dimes, 11 nickels, 20 pennnis\n",
      "1 quarters, 0 dimes, 12 nickels, 15 pennnis\n",
      "1 quarters, 0 dimes, 13 nickels, 10 pennnis\n",
      "1 quarters, 0 dimes, 14 nickels, 5 pennnis\n",
      "1 quarters, 0 dimes, 15 nickels, 0 pennnis\n",
      "1 quarters, 1 dimes, 0 nickels, 65 pennnis\n",
      "1 quarters, 1 dimes, 1 nickels, 60 pennnis\n",
      "1 quarters, 1 dimes, 2 nickels, 55 pennnis\n",
      "1 quarters, 1 dimes, 3 nickels, 50 pennnis\n",
      "1 quarters, 1 dimes, 4 nickels, 45 pennnis\n",
      "1 quarters, 1 dimes, 5 nickels, 40 pennnis\n",
      "1 quarters, 1 dimes, 6 nickels, 35 pennnis\n",
      "1 quarters, 1 dimes, 7 nickels, 30 pennnis\n",
      "1 quarters, 1 dimes, 8 nickels, 25 pennnis\n",
      "1 quarters, 1 dimes, 9 nickels, 20 pennnis\n",
      "1 quarters, 1 dimes, 10 nickels, 15 pennnis\n",
      "1 quarters, 1 dimes, 11 nickels, 10 pennnis\n",
      "1 quarters, 1 dimes, 12 nickels, 5 pennnis\n",
      "1 quarters, 1 dimes, 13 nickels, 0 pennnis\n",
      "1 quarters, 2 dimes, 0 nickels, 55 pennnis\n",
      "1 quarters, 2 dimes, 1 nickels, 50 pennnis\n",
      "1 quarters, 2 dimes, 2 nickels, 45 pennnis\n",
      "1 quarters, 2 dimes, 3 nickels, 40 pennnis\n",
      "1 quarters, 2 dimes, 4 nickels, 35 pennnis\n",
      "1 quarters, 2 dimes, 5 nickels, 30 pennnis\n",
      "1 quarters, 2 dimes, 6 nickels, 25 pennnis\n",
      "1 quarters, 2 dimes, 7 nickels, 20 pennnis\n",
      "1 quarters, 2 dimes, 8 nickels, 15 pennnis\n",
      "1 quarters, 2 dimes, 9 nickels, 10 pennnis\n",
      "1 quarters, 2 dimes, 10 nickels, 5 pennnis\n",
      "1 quarters, 2 dimes, 11 nickels, 0 pennnis\n",
      "1 quarters, 3 dimes, 0 nickels, 45 pennnis\n",
      "1 quarters, 3 dimes, 1 nickels, 40 pennnis\n",
      "1 quarters, 3 dimes, 2 nickels, 35 pennnis\n",
      "1 quarters, 3 dimes, 3 nickels, 30 pennnis\n",
      "1 quarters, 3 dimes, 4 nickels, 25 pennnis\n",
      "1 quarters, 3 dimes, 5 nickels, 20 pennnis\n",
      "1 quarters, 3 dimes, 6 nickels, 15 pennnis\n",
      "1 quarters, 3 dimes, 7 nickels, 10 pennnis\n",
      "1 quarters, 3 dimes, 8 nickels, 5 pennnis\n",
      "1 quarters, 3 dimes, 9 nickels, 0 pennnis\n",
      "1 quarters, 4 dimes, 0 nickels, 35 pennnis\n",
      "1 quarters, 4 dimes, 1 nickels, 30 pennnis\n",
      "1 quarters, 4 dimes, 2 nickels, 25 pennnis\n",
      "1 quarters, 4 dimes, 3 nickels, 20 pennnis\n",
      "1 quarters, 4 dimes, 4 nickels, 15 pennnis\n",
      "1 quarters, 4 dimes, 5 nickels, 10 pennnis\n",
      "1 quarters, 4 dimes, 6 nickels, 5 pennnis\n",
      "1 quarters, 4 dimes, 7 nickels, 0 pennnis\n",
      "1 quarters, 5 dimes, 0 nickels, 25 pennnis\n",
      "1 quarters, 5 dimes, 1 nickels, 20 pennnis\n",
      "1 quarters, 5 dimes, 2 nickels, 15 pennnis\n",
      "1 quarters, 5 dimes, 3 nickels, 10 pennnis\n",
      "1 quarters, 5 dimes, 4 nickels, 5 pennnis\n",
      "1 quarters, 5 dimes, 5 nickels, 0 pennnis\n",
      "1 quarters, 6 dimes, 0 nickels, 15 pennnis\n",
      "1 quarters, 6 dimes, 1 nickels, 10 pennnis\n",
      "1 quarters, 6 dimes, 2 nickels, 5 pennnis\n",
      "1 quarters, 6 dimes, 3 nickels, 0 pennnis\n",
      "1 quarters, 7 dimes, 0 nickels, 5 pennnis\n",
      "1 quarters, 7 dimes, 1 nickels, 0 pennnis\n",
      "2 quarters, 0 dimes, 0 nickels, 50 pennnis\n",
      "2 quarters, 0 dimes, 1 nickels, 45 pennnis\n",
      "2 quarters, 0 dimes, 2 nickels, 40 pennnis\n",
      "2 quarters, 0 dimes, 3 nickels, 35 pennnis\n",
      "2 quarters, 0 dimes, 4 nickels, 30 pennnis\n",
      "2 quarters, 0 dimes, 5 nickels, 25 pennnis\n",
      "2 quarters, 0 dimes, 6 nickels, 20 pennnis\n",
      "2 quarters, 0 dimes, 7 nickels, 15 pennnis\n",
      "2 quarters, 0 dimes, 8 nickels, 10 pennnis\n",
      "2 quarters, 0 dimes, 9 nickels, 5 pennnis\n",
      "2 quarters, 0 dimes, 10 nickels, 0 pennnis\n",
      "2 quarters, 1 dimes, 0 nickels, 40 pennnis\n",
      "2 quarters, 1 dimes, 1 nickels, 35 pennnis\n",
      "2 quarters, 1 dimes, 2 nickels, 30 pennnis\n",
      "2 quarters, 1 dimes, 3 nickels, 25 pennnis\n",
      "2 quarters, 1 dimes, 4 nickels, 20 pennnis\n",
      "2 quarters, 1 dimes, 5 nickels, 15 pennnis\n",
      "2 quarters, 1 dimes, 6 nickels, 10 pennnis\n",
      "2 quarters, 1 dimes, 7 nickels, 5 pennnis\n",
      "2 quarters, 1 dimes, 8 nickels, 0 pennnis\n",
      "2 quarters, 2 dimes, 0 nickels, 30 pennnis\n",
      "2 quarters, 2 dimes, 1 nickels, 25 pennnis\n",
      "2 quarters, 2 dimes, 2 nickels, 20 pennnis\n",
      "2 quarters, 2 dimes, 3 nickels, 15 pennnis\n",
      "2 quarters, 2 dimes, 4 nickels, 10 pennnis\n",
      "2 quarters, 2 dimes, 5 nickels, 5 pennnis\n",
      "2 quarters, 2 dimes, 6 nickels, 0 pennnis\n",
      "2 quarters, 3 dimes, 0 nickels, 20 pennnis\n",
      "2 quarters, 3 dimes, 1 nickels, 15 pennnis\n",
      "2 quarters, 3 dimes, 2 nickels, 10 pennnis\n",
      "2 quarters, 3 dimes, 3 nickels, 5 pennnis\n",
      "2 quarters, 3 dimes, 4 nickels, 0 pennnis\n",
      "2 quarters, 4 dimes, 0 nickels, 10 pennnis\n",
      "2 quarters, 4 dimes, 1 nickels, 5 pennnis\n",
      "2 quarters, 4 dimes, 2 nickels, 0 pennnis\n",
      "2 quarters, 5 dimes, 0 nickels, 0 pennnis\n",
      "3 quarters, 0 dimes, 0 nickels, 25 pennnis\n",
      "3 quarters, 0 dimes, 1 nickels, 20 pennnis\n",
      "3 quarters, 0 dimes, 2 nickels, 15 pennnis\n",
      "3 quarters, 0 dimes, 3 nickels, 10 pennnis\n",
      "3 quarters, 0 dimes, 4 nickels, 5 pennnis\n",
      "3 quarters, 0 dimes, 5 nickels, 0 pennnis\n",
      "3 quarters, 1 dimes, 0 nickels, 15 pennnis\n",
      "3 quarters, 1 dimes, 1 nickels, 10 pennnis\n",
      "3 quarters, 1 dimes, 2 nickels, 5 pennnis\n",
      "3 quarters, 1 dimes, 3 nickels, 0 pennnis\n",
      "3 quarters, 2 dimes, 0 nickels, 5 pennnis\n",
      "3 quarters, 2 dimes, 1 nickels, 0 pennnis\n",
      "4 quarters, 0 dimes, 0 nickels, 0 pennnis\n"
     ]
    }
   ],
   "source": [
    "# Type solution here\n",
    "#quarter in the outer for loop--get value for quarter\n",
    "#then dime...\n",
    "#in the for loop of penny: write one if condition in the for loop (the formula to check whether they add up to 100)\n",
    "print(\"Change for $1:\")\n",
    "for q in range(5):\n",
    "  quarter=q*25\n",
    "  for d in range(11):\n",
    "    dime=d*10\n",
    "    for n in range (21):\n",
    "      nickels=n*5\n",
    "      for p in range (101):\n",
    "        pennies=p\n",
    "        if quarter+dime+nickels+pennies==100:\n",
    "          print(int(quarter/25),\"quarters,\",int(dime/10),\"dimes,\",int(nickels/5),\"nickels,\",int(pennies),\"pennnis\")\n",
    "          "
   ]
  },
  {
   "cell_type": "markdown",
   "metadata": {
    "id": "rUPDjYiIkbgs"
   },
   "source": [
    "##### Q7. Ask the user to enter two positive integers between 1 and 100. Read those integers. Then output a multiplication table of the first number times the second number. \n",
    "\n",
    "Note: You have to ensure the entered numbers are between 1 and 100 only.\n",
    "\n",
    "```\n",
    "Please enter an integer: 5\n",
    "Please enter another integer: 20\n",
    "5 x 1 = 5\n",
    "5 x 2 = 10\n",
    "5 x 3 = 15\n",
    "…\n",
    "5 x 20 = 100\n",
    "```"
   ]
  },
  {
   "cell_type": "code",
   "execution_count": 36,
   "metadata": {
    "id": "Qg0Orv1klHzA",
    "colab": {
     "base_uri": "https://localhost:8080/"
    },
    "outputId": "4c0159a0-a4b9-45c9-f298-59bd8e1ed27a"
   },
   "outputs": [
    {
     "name": "stdout",
     "output_type": "stream",
     "text": [
      "Please enter an integer:9998\n",
      "Please enter an integer between 1 and 100:98\n",
      "Please enter another integer:0\n",
      "Please enter another integer between 1 and 100:-1\n",
      "Please enter another integer between 1 and 100:4\n",
      "98 x 1 = 98\n",
      "98 x 2 = 196\n",
      "98 x 3 = 294\n",
      "98 x 4 = 392\n"
     ]
    }
   ],
   "source": [
    "# Type solution here\n",
    "#while loop\n",
    "#while digit 1...and digit 2....:\n",
    "#come out of the while loop and made a for loop\n",
    "\n",
    "num1=int(input(\"Please enter an integer:\"))\n",
    "while num1<1 or num1>100:\n",
    "  num1=int(input(\"Please enter an integer between 1 and 100:\"))\n",
    "num2=int(input(\"Please enter another integer:\"))\n",
    "while num2<1 or num2>100:\n",
    "  num2=int(input(\"Please enter another integer between 1 and 100:\"))\n",
    "if num1>=1 and num1<=100 and num2>=1 and num2<=100:\n",
    "  base=num1\n",
    "  for i in range(1,(num2+1)):\n",
    "    print(base,\"x\",i,\"=\",base*i)"
   ]
  },
  {
   "cell_type": "markdown",
   "metadata": {
    "id": "SbnbPUPTlLD9"
   },
   "source": [
    "##### Q8. Write a program to ask the user to enter a password. Then check to see if it is a valid password based on these requirements -\n",
    "\n",
    "Must be at least 8 characters long\n",
    "\n",
    "Must contain both uppercase and lowercase letters\n",
    "\n",
    "Must contain at least one number between 0-9\n",
    "\n",
    "Must contain a special character -!,@,#,$\n",
    "\n",
    "If the password is not valid, ask the user to re-enter. This should continue until the user enters a valid password. After a valid password is entered, print Access Granted!\n",
    "\n",
    "```\n",
    "Please enter a password. Follow these requirements - \n",
    "a. Must be at least 8 characters long\n",
    "b. Must contain both uppercase and lowercase letters\n",
    "c. Must contain at least one number between 0-9\n",
    "d. Must contain a special character -!,@,#,$\n",
    "Password: HelloWorld1\n",
    "Invalid password. Try again!\n",
    "Password: Hello@World1\n",
    "Access Granted!\n",
    "```\n"
   ]
  },
  {
   "cell_type": "code",
   "execution_count": 41,
   "metadata": {
    "id": "OXmZ177Rl-RV",
    "colab": {
     "base_uri": "https://localhost:8080/"
    },
    "outputId": "7c8b4eb5-9340-4e8c-c03b-b7381170bb17"
   },
   "outputs": [
    {
     "name": "stdout",
     "output_type": "stream",
     "text": [
      "Please enter a password. Follow these requirements -\n",
      "a. Must be at least 8 characters long\n",
      "b. Must contain both uppercase and lowercase letters\n",
      "c. Must contain at least one number between 0-9\n",
      "d. Must contain a special character -!,@,#,$\n",
      "Password:Hello12!\n",
      "Access Granted!\n"
     ]
    }
   ],
   "source": [
    "# Type solution here\n",
    "\n",
    "print(\"Please enter a password. Follow these requirements -\")\n",
    "print(\"a. Must be at least 8 characters long\")\n",
    "print(\"b. Must contain both uppercase and lowercase letters\")\n",
    "print(\"c. Must contain at least one number between 0-9\")\n",
    "print(\"d. Must contain a special character -!,@,#,$\")\n",
    "\n",
    "password=input(\"Password:\")\n",
    "\n",
    "spechar=['!','@','#','$']\n",
    "if len(password)>=8 and any (char.isupper() for char in password) and (char.islower() for char in password) and any (char.isdigit() for char in password) and any (char in spechar for char in password):\n",
    "  print(\"Access Granted!\")\n",
    "else:\n",
    "  print(\"Invalid password. Try again!\")"
   ]
  },
  {
   "cell_type": "markdown",
   "metadata": {
    "id": "-0sdutTDnTKA"
   },
   "source": [
    "##### Q9. Given the score sheet of participants in a competition, you are required to find the runner-up score. You are given scores in a list. Find the score of the runner-up.\n",
    "\n",
    "```\n",
    "list1 - [2, 3, 6, 6, 5]\n",
    "runner_up - 5\n",
    "\n",
    "list2 - [1, 7, 5, 3, 10, 4, 5, 5, 6, 11]\n",
    "runner_up - 10\n",
    "```"
   ]
  },
  {
   "cell_type": "code",
   "execution_count": 43,
   "metadata": {
    "id": "12YP9OaqpGRK",
    "colab": {
     "base_uri": "https://localhost:8080/"
    },
    "outputId": "f69ab806-5679-4302-9dbf-7b4ce3f8ea70"
   },
   "outputs": [
    {
     "name": "stdout",
     "output_type": "stream",
     "text": [
      "List1=[2, 3, 6, 6, 5]\n",
      "runner_up - 5\n",
      "List2=[1, 7, 5, 3, 10, 4, 5, 5, 6, 11]\n",
      "runner_up - 10\n"
     ]
    }
   ],
   "source": [
    "# Type solution here\n",
    "#sort the list and then index \n",
    "scoreList1=[2, 3, 6, 6, 5]\n",
    "scoreList2=[1, 7, 5, 3, 10, 4, 5, 5, 6, 11]\n",
    "scoreList1.sort()\n",
    "scoreList2.sort()\n",
    "print(\"List1=[2, 3, 6, 6, 5]\")\n",
    "if scoreList1[len(scoreList1)-1]==scoreList1[len(scoreList1)-2]: #identify repetitive score\n",
    "  print(\"runner_up -\",scoreList1[len(scoreList1)-3])\n",
    "else:\n",
    "  print(\"runner_up -\",scoreList1[len(scoreList1)-2])\n",
    "print(\"List2=[1, 7, 5, 3, 10, 4, 5, 5, 6, 11]\")\n",
    "if scoreList2[len(scoreList2)-1]==scoreList2[len(scoreList2)-2]:\n",
    "  print(\"runner_up -\",scoreList2[len(scoreList2)-3])\n",
    "else:\n",
    "  print(\"runner_up -\",scoreList2[len(scoreList2)-2])\n"
   ]
  }
 ],
 "metadata": {
  "colab": {
   "name": "HW1_Lyu_Jingrao.ipynb",
   "provenance": [],
   "collapsed_sections": []
  },
  "kernelspec": {
   "name": "python3",
   "display_name": "Python 3"
  }
 },
 "nbformat": 4,
 "nbformat_minor": 0
}
